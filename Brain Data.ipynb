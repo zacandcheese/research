{
 "cells": [
  {
   "cell_type": "markdown",
   "id": "e496c803",
   "metadata": {},
   "source": [
    "# Experimenting with Brain Data\n",
    "\n",
    "(jupyter and virtual env installment following [this](https://www.digitalocean.com/community/tutorials/how-to-set-up-jupyter-notebook-with-python-3-on-ubuntu-18-04))"
   ]
  },
  {
   "cell_type": "code",
   "execution_count": 1,
   "id": "f64039e9",
   "metadata": {},
   "outputs": [
    {
     "name": "stdout",
     "output_type": "stream",
     "text": [
      "Downloading friends-corpus to /home/howdyranger/.convokit/downloads/friends-corpus\n",
      "Downloading friends-corpus from http://zissou.infosci.cornell.edu/convokit/datasets/friends-corpus/friends-corpus.zip (6.1MB)... Done\n"
     ]
    }
   ],
   "source": [
    "from convokit import Corpus, download\n",
    "corpus = Corpus(filename=download(\"friends-corpus\"))"
   ]
  },
  {
   "cell_type": "code",
   "execution_count": 2,
   "id": "0f230352",
   "metadata": {},
   "outputs": [
    {
     "name": "stdout",
     "output_type": "stream",
     "text": [
      "Number of Speakers: 700\n",
      "Number of Utterances: 67373\n",
      "Number of Conversations: 3107\n"
     ]
    }
   ],
   "source": [
    "corpus.print_summary_stats()"
   ]
  },
  {
   "cell_type": "markdown",
   "id": "3ae11e4f",
   "metadata": {},
   "source": [
    "The friends dataset documentation is found [here](https://convokit.cornell.edu/documentation/friends.html) "
   ]
  },
  {
   "cell_type": "code",
   "execution_count": null,
   "id": "8260d43f",
   "metadata": {},
   "outputs": [],
   "source": []
  }
 ],
 "metadata": {
  "kernelspec": {
   "display_name": "Python 3",
   "language": "python",
   "name": "python3"
  },
  "language_info": {
   "codemirror_mode": {
    "name": "ipython",
    "version": 3
   },
   "file_extension": ".py",
   "mimetype": "text/x-python",
   "name": "python",
   "nbconvert_exporter": "python",
   "pygments_lexer": "ipython3",
   "version": "3.6.9"
  }
 },
 "nbformat": 4,
 "nbformat_minor": 5
}
